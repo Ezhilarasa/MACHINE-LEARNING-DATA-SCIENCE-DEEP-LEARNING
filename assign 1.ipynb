{
 "cells": [
  {
   "cell_type": "code",
   "execution_count": 2,
   "id": "d1cd7c9b",
   "metadata": {},
   "outputs": [
    {
     "name": "stdout",
     "output_type": "stream",
     "text": [
      "Machine Learning\n"
     ]
    }
   ],
   "source": [
    "print(\"Machine Learning\")"
   ]
  },
  {
   "cell_type": "code",
   "execution_count": 4,
   "id": "c67b3ee8",
   "metadata": {},
   "outputs": [
    {
     "name": "stdout",
     "output_type": "stream",
     "text": [
      "Name: JohnAge: 25\n"
     ]
    }
   ],
   "source": [
    "x=(\"Name: John\")\n",
    "y=(\"Age: 25\")\n",
    "z=x+y\n",
    "print(z)"
   ]
  },
  {
   "cell_type": "code",
   "execution_count": 6,
   "id": "6fa7e279",
   "metadata": {},
   "outputs": [
    {
     "name": "stdout",
     "output_type": "stream",
     "text": [
      "Name: John\n",
      "Age: 25\n"
     ]
    }
   ],
   "source": [
    "print(\"Name: John\")\n",
    "print(\"Age: 25\")"
   ]
  },
  {
   "cell_type": "code",
   "execution_count": 7,
   "id": "5b621fdf",
   "metadata": {},
   "outputs": [
    {
     "name": "stdout",
     "output_type": "stream",
     "text": [
      "Welcome to HOPE Artificial Intelligence\n"
     ]
    }
   ],
   "source": [
    "print(\"Welcome to HOPE Artificial Intelligence\")"
   ]
  },
  {
   "cell_type": "code",
   "execution_count": 11,
   "id": "5acdac4d",
   "metadata": {},
   "outputs": [
    {
     "name": "stdout",
     "output_type": "stream",
     "text": [
      "10\n",
      "10\n",
      "x=y= 10\n"
     ]
    }
   ],
   "source": [
    "print(\"10\")\n",
    "print(\"10\")\n",
    "print(\"x=y= 10\")"
   ]
  },
  {
   "cell_type": "code",
   "execution_count": 47,
   "id": "a138e351",
   "metadata": {},
   "outputs": [
    {
     "name": "stdout",
     "output_type": "stream",
     "text": [
      "a=10\n",
      "b=3\n",
      "13\n",
      "7\n",
      "30\n",
      "3.3333333333333335\n"
     ]
    }
   ],
   "source": [
    "x=(\"a=10\")\n",
    "print(x)\n",
    "y=(\"b=3\")\n",
    "print(y)\n",
    "num1=10\n",
    "num2=3\n",
    "print(num1+num2)\n",
    "print(num1-num2)\n",
    "print(num1*num2)\n",
    "print(num1/num2)"
   ]
  },
  {
   "cell_type": "code",
   "execution_count": null,
   "id": "64169ff4",
   "metadata": {},
   "outputs": [],
   "source": []
  }
 ],
 "metadata": {
  "kernelspec": {
   "display_name": "Python 3",
   "language": "python",
   "name": "python3"
  },
  "language_info": {
   "codemirror_mode": {
    "name": "ipython",
    "version": 3
   },
   "file_extension": ".py",
   "mimetype": "text/x-python",
   "name": "python",
   "nbconvert_exporter": "python",
   "pygments_lexer": "ipython3",
   "version": "3.8.8"
  }
 },
 "nbformat": 4,
 "nbformat_minor": 5
}
